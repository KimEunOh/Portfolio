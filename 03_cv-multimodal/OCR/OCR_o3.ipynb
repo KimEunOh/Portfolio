{
 "cells": [
  {
   "cell_type": "code",
   "execution_count": 1,
   "metadata": {},
   "outputs": [
    {
     "data": {
      "text/plain": [
       "True"
      ]
     },
     "execution_count": 1,
     "metadata": {},
     "output_type": "execute_result"
    }
   ],
   "source": [
    "from dotenv import load_dotenv\n",
    "\n",
    "# API KEY 정보로드\n",
    "load_dotenv()"
   ]
  },
  {
   "cell_type": "code",
   "execution_count": 5,
   "metadata": {},
   "outputs": [
    {
     "name": "stdout",
     "output_type": "stream",
     "text": [
      "CSV 파일 'Lotte mart 3월 2차 행사리스트(11).csv'이(가) 성공적으로 저장되었습니다.\n",
      "CSV 파일 'Lotte mart 3월 2차 행사리스트(12).csv'이(가) 성공적으로 저장되었습니다.\n",
      "CSV 파일 'Lotte mart 3월 2차 행사리스트(6).csv'이(가) 성공적으로 저장되었습니다.\n",
      "CSV 파일 'Lotte mart 3월 2차 행사리스트(7).csv'이(가) 성공적으로 저장되었습니다.\n"
     ]
    }
   ],
   "source": [
    "import requests\n",
    "import os\n",
    "import csv\n",
    "import json\n",
    "import openai\n",
    "from openai import OpenAI\n",
    "\n",
    "client = OpenAI()\n",
    "\n",
    "# 1) Upstage에서 발급받은 API 키를 입력해 주세요.\n",
    "api_key = os.getenv(\"UPSTAGE_API_KEY\")\n",
    "\n",
    "# 2) Upstage OCR API, Chat Completion API 엔드포인트 설정\n",
    "ocr_url = \"https://api.upstage.ai/v1/document-ai/ocr\"\n",
    "\n",
    "headers_ocr = {\"Authorization\": f\"Bearer {api_key}\"}\n",
    "\n",
    "# 1) prompt/ocr04.yaml 파일을 읽어오기\n",
    "with open(\"prompt/ocr_o3.yaml\", \"r\", encoding=\"utf-8\") as f:\n",
    "    base_prompt = f.read()\n",
    "\n",
    "# 3) OCR할 이미지가 들어있는 폴더 경로\n",
    "image_folder = \"image\"\n",
    "image_files = [f for f in os.listdir(image_folder) if f.endswith((\".jpg\", \".png\"))]\n",
    "\n",
    "# 4) For 문을 돌면서 각 이미지에 대해 OCR 수행 후, 그 결과를 Chat Completion 모델에 전달\n",
    "for filename in image_files:\n",
    "    # 이미지 열기\n",
    "    with open(os.path.join(image_folder, filename), \"rb\") as file:\n",
    "        files = {\"document\": file}\n",
    "        # OCR 요청\n",
    "        response_ocr = requests.post(ocr_url, headers=headers_ocr, files=files)\n",
    "        response_ocr.raise_for_status()  # 4xx, 5xx 에러 시 예외 발생\n",
    "        ocr_data = response_ocr.json()\n",
    "\n",
    "    # OCR 결과에서 텍스트 추출\n",
    "    pages = ocr_data.get(\"pages\", [])\n",
    "    if not pages:\n",
    "        print(f\"'{filename}'에서 OCR 결과 'pages'가 비어 있습니다.\")\n",
    "        continue\n",
    "\n",
    "    # 여러 페이지가 있을 수 있으니 모두 이어붙이거나 필요한 부분만 선택\n",
    "    ocr_texts = []\n",
    "    for page in pages:\n",
    "        text = page.get(\"text\", \"\")\n",
    "        ocr_texts.append(text)\n",
    "    joined_text = \"\\n\".join(ocr_texts)\n",
    "\n",
    "    # 4-2) ocr04.yaml + OCR 텍스트를 결합하여 prompt 작성\n",
    "    prompt_text = (\n",
    "        f\"{base_prompt}\\n\\n\"\n",
    "        f\"context: {joined_text}\\n\\n\"\n",
    "        \"context를 csv 형식으로 변환해줘\"\n",
    "    )\n",
    "\n",
    "    # 4-3) openai.Chat.create(...) 사용 (openai>=1.0.0)\n",
    "    # o3-mini 모델에 메시지를 전달할 때 temperature 파라미터는 생략\n",
    "    response = client.chat.completions.create(\n",
    "        model=\"o3-mini\",\n",
    "        reasoning_effort=\"medium\",\n",
    "        messages=[\n",
    "            {\"role\": \"system\", \"content\": prompt_text},\n",
    "            {\"role\": \"user\", \"content\": \"csv로 변환해주세요\"},\n",
    "        ],\n",
    "    )\n",
    "\n",
    "    # 응답 파싱\n",
    "    if not response.choices:\n",
    "        print(f\"'{filename}' 파일 모델 응답이 비어 있습니다.\")\n",
    "        continue\n",
    "\n",
    "    result_text = response.choices[0].message.content\n",
    "\n",
    "    # 결과를 CSV 파일로 저장\n",
    "    csv_filename = f\"{os.path.splitext(filename)[0]}.csv\"\n",
    "    csv_lines = result_text.split(\"\\n\")\n",
    "\n",
    "    # 만약 특정 구분선(\"발주 주체\" 이후만 저장)을 사용하고 싶다면 아래 필터를 추가\n",
    "    filtered_data = []\n",
    "    record = False\n",
    "    for line in csv_lines:\n",
    "        if \"발주 주체\" in line:\n",
    "            record = True\n",
    "        if record:\n",
    "            filtered_data.append(line)\n",
    "\n",
    "    with open(csv_filename, mode=\"w\", newline=\"\", encoding=\"utf-8-sig\") as file:\n",
    "        writer = csv.writer(file)\n",
    "        for row in filtered_data:\n",
    "            # 여러 열이 있을 것을 가정하고 콤마로 split\n",
    "            writer.writerow(row.split(\",\"))\n",
    "\n",
    "    print(f\"CSV 파일 '{csv_filename}'이(가) 성공적으로 저장되었습니다.\")"
   ]
  },
  {
   "cell_type": "code",
   "execution_count": null,
   "metadata": {},
   "outputs": [],
   "source": []
  }
 ],
 "metadata": {
  "kernelspec": {
   "display_name": "ntoday-mK10C09h-py3.12",
   "language": "python",
   "name": "python3"
  },
  "language_info": {
   "codemirror_mode": {
    "name": "ipython",
    "version": 3
   },
   "file_extension": ".py",
   "mimetype": "text/x-python",
   "name": "python",
   "nbconvert_exporter": "python",
   "pygments_lexer": "ipython3",
   "version": "3.12.6"
  }
 },
 "nbformat": 4,
 "nbformat_minor": 2
}
