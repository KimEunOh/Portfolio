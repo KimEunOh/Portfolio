{
 "cells": [
  {
   "cell_type": "code",
   "execution_count": 12,
   "metadata": {},
   "outputs": [
    {
     "name": "stdout",
     "output_type": "stream",
     "text": [
      "CSV 파일 'test_dataset_a.csv'이(가) 생성되었습니다.\n"
     ]
    }
   ],
   "source": [
    "import csv\n",
    "import requests\n",
    "from io import BytesIO\n",
    "from PIL import Image\n",
    "from github import Github\n",
    "\n",
    "# GitHub 정보\n",
    "username = \"KimEunOh\"\n",
    "repo = \"image\"\n",
    "branch = \"main\"\n",
    "folder_path = \"a\"\n",
    "\n",
    "# GitHub API를 사용하여 저장소에서 이미지 파일 목록 가져오기\n",
    "g = Github()\n",
    "repo = g.get_user(username).get_repo(repo)\n",
    "contents = repo.get_contents(folder_path, ref=branch)\n",
    "\n",
    "# CSV 파일 생성\n",
    "csv_file = \"test_dataset_a.csv\"\n",
    "label = 0  # 사용자가 지정하는 label 값\n",
    "\n",
    "with open(csv_file, mode='w', newline='') as file:\n",
    "    writer = csv.writer(file)\n",
    "    writer.writerow([\"FileName\", \"Label\", \"url\"])\n",
    "\n",
    "    for content_file in contents:\n",
    "        if content_file.type == \"file\" and content_file.name.endswith(('.png', '.jpg', '.jpeg')):\n",
    "            file_url = content_file.download_url\n",
    "            file_name = content_file.name\n",
    "            writer.writerow([file_name, label, file_url])\n",
    "\n",
    "print(f\"CSV 파일 '{csv_file}'이(가) 생성되었습니다.\")\n"
   ]
  },
  {
   "cell_type": "code",
   "execution_count": 6,
   "metadata": {},
   "outputs": [
    {
     "name": "stdout",
     "output_type": "stream",
     "text": [
      "Collecting pyGithub\n",
      "  Downloading PyGithub-2.5.0-py3-none-any.whl.metadata (3.9 kB)\n",
      "Collecting pynacl>=1.4.0 (from pyGithub)\n",
      "  Downloading PyNaCl-1.5.0-cp36-abi3-win_amd64.whl.metadata (8.7 kB)\n",
      "Requirement already satisfied: requests>=2.14.0 in c:\\users\\douly\\appdata\\local\\pypoetry\\cache\\virtualenvs\\lmm-fvm8fsl0-py3.11\\lib\\site-packages (from pyGithub) (2.32.3)\n",
      "Collecting pyjwt>=2.4.0 (from pyjwt[crypto]>=2.4.0->pyGithub)\n",
      "  Downloading PyJWT-2.10.1-py3-none-any.whl.metadata (4.0 kB)\n",
      "Requirement already satisfied: typing-extensions>=4.0.0 in c:\\users\\douly\\appdata\\local\\pypoetry\\cache\\virtualenvs\\lmm-fvm8fsl0-py3.11\\lib\\site-packages (from pyGithub) (4.12.2)\n",
      "Requirement already satisfied: urllib3>=1.26.0 in c:\\users\\douly\\appdata\\local\\pypoetry\\cache\\virtualenvs\\lmm-fvm8fsl0-py3.11\\lib\\site-packages (from pyGithub) (2.2.3)\n",
      "Collecting Deprecated (from pyGithub)\n",
      "  Using cached Deprecated-1.2.15-py2.py3-none-any.whl.metadata (5.5 kB)\n",
      "Collecting cryptography>=3.4.0 (from pyjwt[crypto]>=2.4.0->pyGithub)\n",
      "  Using cached cryptography-44.0.0-cp39-abi3-win_amd64.whl.metadata (5.7 kB)\n",
      "Collecting cffi>=1.4.1 (from pynacl>=1.4.0->pyGithub)\n",
      "  Using cached cffi-1.17.1-cp311-cp311-win_amd64.whl.metadata (1.6 kB)\n",
      "Requirement already satisfied: charset-normalizer<4,>=2 in c:\\users\\douly\\appdata\\local\\pypoetry\\cache\\virtualenvs\\lmm-fvm8fsl0-py3.11\\lib\\site-packages (from requests>=2.14.0->pyGithub) (3.4.0)\n",
      "Requirement already satisfied: idna<4,>=2.5 in c:\\users\\douly\\appdata\\local\\pypoetry\\cache\\virtualenvs\\lmm-fvm8fsl0-py3.11\\lib\\site-packages (from requests>=2.14.0->pyGithub) (3.10)\n",
      "Requirement already satisfied: certifi>=2017.4.17 in c:\\users\\douly\\appdata\\local\\pypoetry\\cache\\virtualenvs\\lmm-fvm8fsl0-py3.11\\lib\\site-packages (from requests>=2.14.0->pyGithub) (2024.8.30)\n",
      "Collecting wrapt<2,>=1.10 (from Deprecated->pyGithub)\n",
      "  Using cached wrapt-1.17.0-cp311-cp311-win_amd64.whl.metadata (6.5 kB)\n",
      "Collecting pycparser (from cffi>=1.4.1->pynacl>=1.4.0->pyGithub)\n",
      "  Using cached pycparser-2.22-py3-none-any.whl.metadata (943 bytes)\n",
      "Downloading PyGithub-2.5.0-py3-none-any.whl (375 kB)\n",
      "Downloading PyJWT-2.10.1-py3-none-any.whl (22 kB)\n",
      "Downloading PyNaCl-1.5.0-cp36-abi3-win_amd64.whl (212 kB)\n",
      "Using cached Deprecated-1.2.15-py2.py3-none-any.whl (9.9 kB)\n",
      "Using cached cffi-1.17.1-cp311-cp311-win_amd64.whl (181 kB)\n",
      "Using cached cryptography-44.0.0-cp39-abi3-win_amd64.whl (3.2 MB)\n",
      "Using cached wrapt-1.17.0-cp311-cp311-win_amd64.whl (38 kB)\n",
      "Using cached pycparser-2.22-py3-none-any.whl (117 kB)\n",
      "Installing collected packages: wrapt, pyjwt, pycparser, Deprecated, cffi, pynacl, cryptography, pyGithub\n",
      "Successfully installed Deprecated-1.2.15 cffi-1.17.1 cryptography-44.0.0 pyGithub-2.5.0 pycparser-2.22 pyjwt-2.10.1 pynacl-1.5.0 wrapt-1.17.0\n"
     ]
    }
   ],
   "source": [
    "!pip install pyGithub\n"
   ]
  },
  {
   "cell_type": "code",
   "execution_count": null,
   "metadata": {},
   "outputs": [],
   "source": []
  }
 ],
 "metadata": {
  "kernelspec": {
   "display_name": "lmm-FvM8fsL0-py3.11",
   "language": "python",
   "name": "python3"
  },
  "language_info": {
   "codemirror_mode": {
    "name": "ipython",
    "version": 3
   },
   "file_extension": ".py",
   "mimetype": "text/x-python",
   "name": "python",
   "nbconvert_exporter": "python",
   "pygments_lexer": "ipython3",
   "version": "3.11.9"
  }
 },
 "nbformat": 4,
 "nbformat_minor": 2
}
