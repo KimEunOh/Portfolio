{
 "cells": [
  {
   "cell_type": "markdown",
   "metadata": {},
   "source": [
    "Analyze the image at the following URL: {image_url}.  \n",
    "            Using the following keywords as a checklist: {', '.join(relevant_keywords)}.  \n",
    "\n",
    "            Instructions:  \n",
    "            1. For each keyword, verify whether the described clue is present in the image. Clearly state which keywords (if any) correspond to observed anomalies.  \n",
    "            2. If no anomalies are found, conclude that the image does not show signs of deepfake manipulation.  \n",
    "            3. Provide a balanced judgment and explain your reasoning, ensuring not to assume manipulation unless supported by clear evidence.  \n",
    "\n",
    "            Response Format:  \n",
    "            1. Observations: List the observations for each keyword, explicitly noting whether it matches an observed anomaly or not.  \n",
    "            2. Conclusion: State whether the image is likely a deepfake (Yes/No).  \n",
    "            3. Explanation: Provide a brief explanation, citing specific observations or lack thereof.\n",
    "\n",
    "            Example Response:  \n",
    "            Observations:  \n",
    "            - \"Mismatched shadows\": Not observed.  \n",
    "            - \"Unnatural facial features\": Slight asymmetry in the eyes.  \n",
    "            - \"Smooth skin texture\": Observed on the cheeks.  \n",
    "\n",
    "            Conclusion: No.  \n",
    "\n",
    "            Explanation: While some minor anomalies were noted (e.g., asymmetry in the eyes), these are consistent with natural variations in human features and do not strongly indicate manipulation.\n",
    "            "
   ]
  }
 ],
 "metadata": {
  "language_info": {
   "name": "python"
  }
 },
 "nbformat": 4,
 "nbformat_minor": 2
}
