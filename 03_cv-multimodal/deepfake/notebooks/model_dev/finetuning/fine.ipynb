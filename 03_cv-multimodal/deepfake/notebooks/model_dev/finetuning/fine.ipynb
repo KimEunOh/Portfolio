{
 "cells": [
  {
   "cell_type": "code",
   "execution_count": 1,
   "metadata": {},
   "outputs": [
    {
     "name": "stdout",
     "output_type": "stream",
     "text": [
      "Collecting together\n",
      "  Downloading together-1.3.3-py3-none-any.whl.metadata (11 kB)\n",
      "Collecting aiohttp<4.0.0,>=3.9.3 (from together)\n",
      "  Downloading aiohttp-3.10.10-cp311-cp311-win_amd64.whl.metadata (7.8 kB)\n",
      "Requirement already satisfied: click<9.0.0,>=8.1.7 in c:\\users\\douly\\appdata\\local\\pypoetry\\cache\\virtualenvs\\biztour-2mxtw1dy-py3.11\\lib\\site-packages (from together) (8.1.7)\n",
      "Collecting eval-type-backport<0.3.0,>=0.1.3 (from together)\n",
      "  Downloading eval_type_backport-0.2.0-py3-none-any.whl.metadata (2.2 kB)\n",
      "Requirement already satisfied: filelock<4.0.0,>=3.13.1 in c:\\users\\douly\\appdata\\local\\pypoetry\\cache\\virtualenvs\\biztour-2mxtw1dy-py3.11\\lib\\site-packages (from together) (3.16.1)\n",
      "Requirement already satisfied: numpy>=1.23.5 in c:\\users\\douly\\appdata\\local\\pypoetry\\cache\\virtualenvs\\biztour-2mxtw1dy-py3.11\\lib\\site-packages (from together) (1.26.4)\n",
      "Requirement already satisfied: pillow<11.0.0,>=10.3.0 in c:\\users\\douly\\appdata\\local\\pypoetry\\cache\\virtualenvs\\biztour-2mxtw1dy-py3.11\\lib\\site-packages (from together) (10.4.0)\n",
      "Collecting pyarrow>=10.0.1 (from together)\n",
      "  Downloading pyarrow-18.0.0-cp311-cp311-win_amd64.whl.metadata (3.4 kB)\n",
      "Requirement already satisfied: pydantic<3.0.0,>=2.6.3 in c:\\users\\douly\\appdata\\local\\pypoetry\\cache\\virtualenvs\\biztour-2mxtw1dy-py3.11\\lib\\site-packages (from together) (2.9.2)\n",
      "Requirement already satisfied: requests<3.0.0,>=2.31.0 in c:\\users\\douly\\appdata\\local\\pypoetry\\cache\\virtualenvs\\biztour-2mxtw1dy-py3.11\\lib\\site-packages (from together) (2.32.3)\n",
      "Requirement already satisfied: rich<14.0.0,>=13.8.1 in c:\\users\\douly\\appdata\\local\\pypoetry\\cache\\virtualenvs\\biztour-2mxtw1dy-py3.11\\lib\\site-packages (from together) (13.9.3)\n",
      "Collecting tabulate<0.10.0,>=0.9.0 (from together)\n",
      "  Downloading tabulate-0.9.0-py3-none-any.whl.metadata (34 kB)\n",
      "Requirement already satisfied: tqdm<5.0.0,>=4.66.2 in c:\\users\\douly\\appdata\\local\\pypoetry\\cache\\virtualenvs\\biztour-2mxtw1dy-py3.11\\lib\\site-packages (from together) (4.66.6)\n",
      "Requirement already satisfied: typer<0.13,>=0.9 in c:\\users\\douly\\appdata\\local\\pypoetry\\cache\\virtualenvs\\biztour-2mxtw1dy-py3.11\\lib\\site-packages (from together) (0.12.5)\n",
      "Collecting aiohappyeyeballs>=2.3.0 (from aiohttp<4.0.0,>=3.9.3->together)\n",
      "  Downloading aiohappyeyeballs-2.4.3-py3-none-any.whl.metadata (6.1 kB)\n",
      "Collecting aiosignal>=1.1.2 (from aiohttp<4.0.0,>=3.9.3->together)\n",
      "  Downloading aiosignal-1.3.1-py3-none-any.whl.metadata (4.0 kB)\n",
      "Requirement already satisfied: attrs>=17.3.0 in c:\\users\\douly\\appdata\\local\\pypoetry\\cache\\virtualenvs\\biztour-2mxtw1dy-py3.11\\lib\\site-packages (from aiohttp<4.0.0,>=3.9.3->together) (24.2.0)\n",
      "Collecting frozenlist>=1.1.1 (from aiohttp<4.0.0,>=3.9.3->together)\n",
      "  Downloading frozenlist-1.5.0-cp311-cp311-win_amd64.whl.metadata (14 kB)\n",
      "Collecting multidict<7.0,>=4.5 (from aiohttp<4.0.0,>=3.9.3->together)\n",
      "  Downloading multidict-6.1.0-cp311-cp311-win_amd64.whl.metadata (5.1 kB)\n",
      "Collecting yarl<2.0,>=1.12.0 (from aiohttp<4.0.0,>=3.9.3->together)\n",
      "  Downloading yarl-1.17.1-cp311-cp311-win_amd64.whl.metadata (66 kB)\n",
      "Requirement already satisfied: colorama in c:\\users\\douly\\appdata\\local\\pypoetry\\cache\\virtualenvs\\biztour-2mxtw1dy-py3.11\\lib\\site-packages (from click<9.0.0,>=8.1.7->together) (0.4.6)\n",
      "Requirement already satisfied: annotated-types>=0.6.0 in c:\\users\\douly\\appdata\\local\\pypoetry\\cache\\virtualenvs\\biztour-2mxtw1dy-py3.11\\lib\\site-packages (from pydantic<3.0.0,>=2.6.3->together) (0.7.0)\n",
      "Requirement already satisfied: pydantic-core==2.23.4 in c:\\users\\douly\\appdata\\local\\pypoetry\\cache\\virtualenvs\\biztour-2mxtw1dy-py3.11\\lib\\site-packages (from pydantic<3.0.0,>=2.6.3->together) (2.23.4)\n",
      "Requirement already satisfied: typing-extensions>=4.6.1 in c:\\users\\douly\\appdata\\local\\pypoetry\\cache\\virtualenvs\\biztour-2mxtw1dy-py3.11\\lib\\site-packages (from pydantic<3.0.0,>=2.6.3->together) (4.12.2)\n",
      "Requirement already satisfied: charset-normalizer<4,>=2 in c:\\users\\douly\\appdata\\local\\pypoetry\\cache\\virtualenvs\\biztour-2mxtw1dy-py3.11\\lib\\site-packages (from requests<3.0.0,>=2.31.0->together) (3.4.0)\n",
      "Requirement already satisfied: idna<4,>=2.5 in c:\\users\\douly\\appdata\\local\\pypoetry\\cache\\virtualenvs\\biztour-2mxtw1dy-py3.11\\lib\\site-packages (from requests<3.0.0,>=2.31.0->together) (3.10)\n",
      "Requirement already satisfied: urllib3<3,>=1.21.1 in c:\\users\\douly\\appdata\\local\\pypoetry\\cache\\virtualenvs\\biztour-2mxtw1dy-py3.11\\lib\\site-packages (from requests<3.0.0,>=2.31.0->together) (2.2.3)\n",
      "Requirement already satisfied: certifi>=2017.4.17 in c:\\users\\douly\\appdata\\local\\pypoetry\\cache\\virtualenvs\\biztour-2mxtw1dy-py3.11\\lib\\site-packages (from requests<3.0.0,>=2.31.0->together) (2024.8.30)\n",
      "Requirement already satisfied: markdown-it-py>=2.2.0 in c:\\users\\douly\\appdata\\local\\pypoetry\\cache\\virtualenvs\\biztour-2mxtw1dy-py3.11\\lib\\site-packages (from rich<14.0.0,>=13.8.1->together) (3.0.0)\n",
      "Requirement already satisfied: pygments<3.0.0,>=2.13.0 in c:\\users\\douly\\appdata\\local\\pypoetry\\cache\\virtualenvs\\biztour-2mxtw1dy-py3.11\\lib\\site-packages (from rich<14.0.0,>=13.8.1->together) (2.18.0)\n",
      "Requirement already satisfied: shellingham>=1.3.0 in c:\\users\\douly\\appdata\\local\\pypoetry\\cache\\virtualenvs\\biztour-2mxtw1dy-py3.11\\lib\\site-packages (from typer<0.13,>=0.9->together) (1.5.4)\n",
      "Requirement already satisfied: mdurl~=0.1 in c:\\users\\douly\\appdata\\local\\pypoetry\\cache\\virtualenvs\\biztour-2mxtw1dy-py3.11\\lib\\site-packages (from markdown-it-py>=2.2.0->rich<14.0.0,>=13.8.1->together) (0.1.2)\n",
      "Collecting propcache>=0.2.0 (from yarl<2.0,>=1.12.0->aiohttp<4.0.0,>=3.9.3->together)\n",
      "  Downloading propcache-0.2.0-cp311-cp311-win_amd64.whl.metadata (7.9 kB)\n",
      "Downloading together-1.3.3-py3-none-any.whl (68 kB)\n",
      "Downloading aiohttp-3.10.10-cp311-cp311-win_amd64.whl (381 kB)\n",
      "Downloading eval_type_backport-0.2.0-py3-none-any.whl (5.9 kB)\n",
      "Downloading pyarrow-18.0.0-cp311-cp311-win_amd64.whl (25.1 MB)\n",
      "   ---------------------------------------- 0.0/25.1 MB ? eta -:--:--\n",
      "   -- ------------------------------------- 1.8/25.1 MB 11.2 MB/s eta 0:00:03\n",
      "   --------- ------------------------------ 6.0/25.1 MB 16.8 MB/s eta 0:00:02\n",
      "   ---------------- ----------------------- 10.5/25.1 MB 18.7 MB/s eta 0:00:01\n",
      "   ------------------ --------------------- 11.5/25.1 MB 16.8 MB/s eta 0:00:01\n",
      "   -------------------- ------------------- 12.8/25.1 MB 13.2 MB/s eta 0:00:01\n",
      "   ----------------------- ---------------- 14.9/25.1 MB 12.4 MB/s eta 0:00:01\n",
      "   ------------------------- -------------- 16.3/25.1 MB 11.6 MB/s eta 0:00:01\n",
      "   ----------------------------- ---------- 18.6/25.1 MB 11.3 MB/s eta 0:00:01\n",
      "   ------------------------------- -------- 19.9/25.1 MB 10.7 MB/s eta 0:00:01\n",
      "   ----------------------------------- ---- 22.5/25.1 MB 10.8 MB/s eta 0:00:01\n",
      "   ---------------------------------------  24.9/25.1 MB 11.0 MB/s eta 0:00:01\n",
      "   ---------------------------------------- 25.1/25.1 MB 10.8 MB/s eta 0:00:00\n",
      "Downloading tabulate-0.9.0-py3-none-any.whl (35 kB)\n",
      "Downloading aiohappyeyeballs-2.4.3-py3-none-any.whl (14 kB)\n",
      "Downloading aiosignal-1.3.1-py3-none-any.whl (7.6 kB)\n",
      "Downloading frozenlist-1.5.0-cp311-cp311-win_amd64.whl (51 kB)\n",
      "Downloading multidict-6.1.0-cp311-cp311-win_amd64.whl (28 kB)\n",
      "Downloading yarl-1.17.1-cp311-cp311-win_amd64.whl (90 kB)\n",
      "Downloading propcache-0.2.0-cp311-cp311-win_amd64.whl (44 kB)\n",
      "Installing collected packages: tabulate, pyarrow, propcache, multidict, frozenlist, eval-type-backport, aiohappyeyeballs, yarl, aiosignal, aiohttp, together\n",
      "Successfully installed aiohappyeyeballs-2.4.3 aiohttp-3.10.10 aiosignal-1.3.1 eval-type-backport-0.2.0 frozenlist-1.5.0 multidict-6.1.0 propcache-0.2.0 pyarrow-18.0.0 tabulate-0.9.0 together-1.3.3 yarl-1.17.1\n"
     ]
    },
    {
     "name": "stderr",
     "output_type": "stream",
     "text": [
      "\n",
      "[notice] A new release of pip is available: 24.2 -> 24.3.1\n",
      "[notice] To update, run: python.exe -m pip install --upgrade pip\n"
     ]
    }
   ],
   "source": [
    "!pip install --upgrade together"
   ]
  },
  {
   "cell_type": "code",
   "execution_count": 21,
   "metadata": {},
   "outputs": [
    {
     "name": "stderr",
     "output_type": "stream",
     "text": [
      "'export'��(��) ���� �Ǵ� �ܺ� ����, ������ �� �ִ� ���α׷�, �Ǵ�\n",
      "��ġ ������ �ƴմϴ�.\n"
     ]
    }
   ],
   "source": [
    "!export TOGETHER_API_KEY=\"\""
   ]
  },
  {
   "cell_type": "code",
   "execution_count": 23,
   "metadata": {},
   "outputs": [
    {
     "name": "stdout",
     "output_type": "stream",
     "text": [
      "Usage: together [OPTIONS] COMMAND [ARGS]...\n",
      "\n",
      "  This is a sample CLI tool.\n",
      "\n",
      "Options:\n",
      "  --api-key TEXT         API Key. Defaults to environment variable\n",
      "                         `TOGETHER_API_KEY`\n",
      "  --base-url TEXT        API Base URL. Defaults to Together AI endpoint.\n",
      "  --timeout INTEGER      Request timeout. Defaults to 600 seconds\n",
      "  --max-retries INTEGER  Maximum number of HTTP retries. Defaults to 5.\n",
      "  --version              Print version\n",
      "  --debug                Debug mode\n",
      "  --help                 Show this message and exit.\n",
      "\n",
      "Commands:\n",
      "  chat.completions  Generate chat completions from messages\n",
      "  chat.interactive  Interactive chat shell\n",
      "  completions       Generate text completions\n",
      "  files             File API commands\n",
      "  fine-tuning       Fine-tunes API commands\n",
      "  images            Images generations API commands\n",
      "  models            Models API commands\n"
     ]
    }
   ],
   "source": [
    "!together --help"
   ]
  },
  {
   "cell_type": "code",
   "execution_count": 24,
   "metadata": {},
   "outputs": [
    {
     "name": "stderr",
     "output_type": "stream",
     "text": [
      "Traceback (most recent call last):\n",
      "  File \"<frozen runpy>\", line 198, in _run_module_as_main\n",
      "  File \"<frozen runpy>\", line 88, in _run_code\n",
      "  File \"c:\\Users\\douly\\AppData\\Local\\pypoetry\\Cache\\virtualenvs\\biztour-2MXTw1DY-py3.11\\Scripts\\together.exe\\__main__.py\", line 7, in <module>\n",
      "  File \"C:\\Users\\douly\\AppData\\Local\\pypoetry\\Cache\\virtualenvs\\biztour-2MXTw1DY-py3.11\\Lib\\site-packages\\click\\core.py\", line 1157, in __call__\n",
      "    return self.main(*args, **kwargs)\n",
      "           ^^^^^^^^^^^^^^^^^^^^^^^^^^\n",
      "  File \"C:\\Users\\douly\\AppData\\Local\\pypoetry\\Cache\\virtualenvs\\biztour-2MXTw1DY-py3.11\\Lib\\site-packages\\click\\core.py\", line 1078, in main\n",
      "    rv = self.invoke(ctx)\n",
      "         ^^^^^^^^^^^^^^^^\n",
      "  File \"C:\\Users\\douly\\AppData\\Local\\pypoetry\\Cache\\virtualenvs\\biztour-2MXTw1DY-py3.11\\Lib\\site-packages\\click\\core.py\", line 1685, in invoke\n",
      "    super().invoke(ctx)\n",
      "  File \"C:\\Users\\douly\\AppData\\Local\\pypoetry\\Cache\\virtualenvs\\biztour-2MXTw1DY-py3.11\\Lib\\site-packages\\click\\core.py\", line 1434, in invoke\n",
      "    return ctx.invoke(self.callback, **ctx.params)\n",
      "           ^^^^^^^^^^^^^^^^^^^^^^^^^^^^^^^^^^^^^^^\n",
      "  File \"C:\\Users\\douly\\AppData\\Local\\pypoetry\\Cache\\virtualenvs\\biztour-2MXTw1DY-py3.11\\Lib\\site-packages\\click\\core.py\", line 783, in invoke\n",
      "    return __callback(*args, **kwargs)\n",
      "           ^^^^^^^^^^^^^^^^^^^^^^^^^^^\n",
      "  File \"C:\\Users\\douly\\AppData\\Local\\pypoetry\\Cache\\virtualenvs\\biztour-2MXTw1DY-py3.11\\Lib\\site-packages\\click\\decorators.py\", line 33, in new_func\n",
      "    return f(get_current_context(), *args, **kwargs)\n",
      "           ^^^^^^^^^^^^^^^^^^^^^^^^^^^^^^^^^^^^^^^^^\n",
      "  File \"C:\\Users\\douly\\AppData\\Local\\pypoetry\\Cache\\virtualenvs\\biztour-2MXTw1DY-py3.11\\Lib\\site-packages\\together\\cli\\cli.py\", line 63, in main\n",
      "    ctx.obj = together.Together(\n",
      "              ^^^^^^^^^^^^^^^^^^\n",
      "  File \"C:\\Users\\douly\\AppData\\Local\\pypoetry\\Cache\\virtualenvs\\biztour-2MXTw1DY-py3.11\\Lib\\site-packages\\together\\client.py\", line 47, in __init__\n",
      "    raise AuthenticationError(\n",
      "together.error.AuthenticationError: The api_key client option must be set either by passing api_key to the client or by setting the TOGETHER_API_KEY environment variable\n"
     ]
    }
   ],
   "source": [
    "!together files upload dataset.jsonl"
   ]
  },
  {
   "cell_type": "code",
   "execution_count": 25,
   "metadata": {},
   "outputs": [],
   "source": [
    "import json\n",
    "\n",
    "# 파일 경로 지정\n",
    "input_file_path = \"dataset.jsonl\"\n",
    "output_file_path = \"modified_dataset.jsonl\"\n",
    "\n",
    "# 원본 파일 읽고 변환\n",
    "with open(input_file_path, \"r\", encoding=\"utf-8\") as infile, open(\n",
    "    output_file_path, \"w\", encoding=\"utf-8\"\n",
    ") as outfile:\n",
    "    for line in infile:\n",
    "        data = json.loads(line.strip())\n",
    "\n",
    "        # 새로운 `text` 필드 생성하여 메시지를 하나의 텍스트로 결합\n",
    "        text_content = \"\\n\".join(\n",
    "            [f\"{msg['role']}: {msg['content']}\" for msg in data.get(\"messages\", [])]\n",
    "        )\n",
    "        data[\"text\"] = text_content\n",
    "\n",
    "        # `messages` 필드는 제거하여 단순화 (필요 시)\n",
    "        data.pop(\"messages\", None)\n",
    "\n",
    "        # 수정된 JSONL을 출력 파일에 기록\n",
    "        json.dump(data, outfile)\n",
    "        outfile.write(\"\\n\")"
   ]
  },
  {
   "cell_type": "code",
   "execution_count": 32,
   "metadata": {},
   "outputs": [],
   "source": [
    "!set TOGETHER_API_KEY=d32984692bb2a2978db793029c7b659a41cef3e059899b3df433359b714533e3"
   ]
  },
  {
   "cell_type": "code",
   "execution_count": 33,
   "metadata": {},
   "outputs": [
    {
     "name": "stderr",
     "output_type": "stream",
     "text": [
      "Traceback (most recent call last):\n",
      "  File \"<frozen runpy>\", line 198, in _run_module_as_main\n",
      "  File \"<frozen runpy>\", line 88, in _run_code\n",
      "  File \"c:\\Users\\douly\\AppData\\Local\\pypoetry\\Cache\\virtualenvs\\biztour-2MXTw1DY-py3.11\\Scripts\\together.exe\\__main__.py\", line 7, in <module>\n",
      "  File \"C:\\Users\\douly\\AppData\\Local\\pypoetry\\Cache\\virtualenvs\\biztour-2MXTw1DY-py3.11\\Lib\\site-packages\\click\\core.py\", line 1157, in __call__\n",
      "    return self.main(*args, **kwargs)\n",
      "           ^^^^^^^^^^^^^^^^^^^^^^^^^^\n",
      "  File \"C:\\Users\\douly\\AppData\\Local\\pypoetry\\Cache\\virtualenvs\\biztour-2MXTw1DY-py3.11\\Lib\\site-packages\\click\\core.py\", line 1078, in main\n",
      "    rv = self.invoke(ctx)\n",
      "         ^^^^^^^^^^^^^^^^\n",
      "  File \"C:\\Users\\douly\\AppData\\Local\\pypoetry\\Cache\\virtualenvs\\biztour-2MXTw1DY-py3.11\\Lib\\site-packages\\click\\core.py\", line 1685, in invoke\n",
      "    super().invoke(ctx)\n",
      "  File \"C:\\Users\\douly\\AppData\\Local\\pypoetry\\Cache\\virtualenvs\\biztour-2MXTw1DY-py3.11\\Lib\\site-packages\\click\\core.py\", line 1434, in invoke\n",
      "    return ctx.invoke(self.callback, **ctx.params)\n",
      "           ^^^^^^^^^^^^^^^^^^^^^^^^^^^^^^^^^^^^^^^\n",
      "  File \"C:\\Users\\douly\\AppData\\Local\\pypoetry\\Cache\\virtualenvs\\biztour-2MXTw1DY-py3.11\\Lib\\site-packages\\click\\core.py\", line 783, in invoke\n",
      "    return __callback(*args, **kwargs)\n",
      "           ^^^^^^^^^^^^^^^^^^^^^^^^^^^\n",
      "  File \"C:\\Users\\douly\\AppData\\Local\\pypoetry\\Cache\\virtualenvs\\biztour-2MXTw1DY-py3.11\\Lib\\site-packages\\click\\decorators.py\", line 33, in new_func\n",
      "    return f(get_current_context(), *args, **kwargs)\n",
      "           ^^^^^^^^^^^^^^^^^^^^^^^^^^^^^^^^^^^^^^^^^\n",
      "  File \"C:\\Users\\douly\\AppData\\Local\\pypoetry\\Cache\\virtualenvs\\biztour-2MXTw1DY-py3.11\\Lib\\site-packages\\together\\cli\\cli.py\", line 63, in main\n",
      "    ctx.obj = together.Together(\n",
      "              ^^^^^^^^^^^^^^^^^^\n",
      "  File \"C:\\Users\\douly\\AppData\\Local\\pypoetry\\Cache\\virtualenvs\\biztour-2MXTw1DY-py3.11\\Lib\\site-packages\\together\\client.py\", line 47, in __init__\n",
      "    raise AuthenticationError(\n",
      "together.error.AuthenticationError: The api_key client option must be set either by passing api_key to the client or by setting the TOGETHER_API_KEY environment variable\n"
     ]
    }
   ],
   "source": [
    "!together files upload modified_dataset.jsonl"
   ]
  },
  {
   "cell_type": "code",
   "execution_count": null,
   "metadata": {},
   "outputs": [],
   "source": [
    "import subprocess\n",
    "\n",
    "# 명령어를 subprocess.run()을 통해 실행\n",
    "subprocess.run(\n",
    "    [\n",
    "        \"python\",\n",
    "        \"LMM\\LLaVA\\llava\\train\\train_mem.py\",\n",
    "        \"--model_name_or_path\",\n",
    "        \"/content/LLaVA/ffaa-mistral-7b\",\n",
    "        \"--version\",\n",
    "        \"v1\",\n",
    "        \"--data_path\",\n",
    "        \"LMM\\dataset.jsonl\",\n",
    "        \"--image_folder\",\n",
    "        \"LMM\\image\",\n",
    "        \"--vision_tower\",\n",
    "        \"openai/clip-vit-large-patch14\",\n",
    "        \"--tune_mm_mlp_adapter\",\n",
    "        \"True\",\n",
    "        \"--mm_vision_select_layer\",\n",
    "        \"-2\",\n",
    "        \"--mm_use_im_start_end\",\n",
    "        \"--bf16\",\n",
    "        \"True\",\n",
    "        \"--output_dir\",\n",
    "        \"LMM\\LLaVA\\output checkpoint\",\n",
    "        \"--num_train_epochs\",\n",
    "        \"2\",\n",
    "        \"--per_device_train_batch_size\",\n",
    "        \"16\",\n",
    "        \"--per_device_eval_batch_size\",\n",
    "        \"4\",\n",
    "        \"--gradient_accumulation_steps\",\n",
    "        \"16\",\n",
    "        \"--evaluation_strategy\",\n",
    "        \"no\",\n",
    "        \"--save_strategy\",\n",
    "        \"steps\",\n",
    "        \"--save_steps\",\n",
    "        \"250\",\n",
    "        \"--save_total_limit\",\n",
    "        \"1\",\n",
    "        \"--learning_rate\",\n",
    "        \"2e-3\",\n",
    "        \"--weight_decay\",\n",
    "        \"0.\",\n",
    "        \"--warmup_ratio\",\n",
    "        \"0\",\n",
    "        \"--lr_scheduler_type\",\n",
    "        \"cosine\",\n",
    "        \"--logging_steps\",\n",
    "        \"1\",\n",
    "        \"--tf32\",\n",
    "        \"True\",\n",
    "        \"--model_max_length\",\n",
    "        \"128\",\n",
    "        \"--gradient_checkpointing\",\n",
    "        \"True\",\n",
    "        \"--lazy_preprocess\",\n",
    "        \"True\",\n",
    "        \"--report_to\",\n",
    "        \"wandb\",\n",
    "    ]\n",
    ")"
   ]
  }
 ],
 "metadata": {
  "kernelspec": {
   "display_name": "biztour-2MXTw1DY-py3.11",
   "language": "python",
   "name": "python3"
  },
  "language_info": {
   "codemirror_mode": {
    "name": "ipython",
    "version": 3
   },
   "file_extension": ".py",
   "mimetype": "text/x-python",
   "name": "python",
   "nbconvert_exporter": "python",
   "pygments_lexer": "ipython3",
   "version": "3.11.9"
  }
 },
 "nbformat": 4,
 "nbformat_minor": 2
}
