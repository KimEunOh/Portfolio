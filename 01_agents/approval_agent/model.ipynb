{
 "cells": [
  {
   "cell_type": "code",
   "execution_count": 147,
   "metadata": {},
   "outputs": [
    {
     "data": {
      "text/plain": [
       "True"
      ]
     },
     "execution_count": 147,
     "metadata": {},
     "output_type": "execute_result"
    }
   ],
   "source": [
    "# API 키를 환경변수로 관리하기 위한 설정 파일\n",
    "from dotenv import load_dotenv\n",
    "\n",
    "# API 키 정보 로드\n",
    "load_dotenv()"
   ]
  },
  {
   "cell_type": "code",
   "execution_count": 148,
   "metadata": {},
   "outputs": [],
   "source": [
    "from typing import Annotated, TypedDict, Optional\n",
    "from datetime import datetime\n",
    "from pydantic import Field, BaseModel, ValidationError\n",
    "from langgraph.graph import StateGraph, START, END\n",
    "from langgraph.graph.message import add_messages\n",
    "\n",
    "\n",
    "# class Employee(BaseModel):\n",
    "#     name: Annotated[str, \"사용자 이름\"]\n",
    "#     date: Annotated[int, \"휴가 시작일\"]\n",
    "#     type: Annotated[str, \"휴가 종류\"]\n",
    "#     reason: Annotated[str, \"휴가 사유\"]\n",
    "\n",
    "\n",
    "class State(TypedDict):\n",
    "    question: Annotated[str, \"Question\"]\n",
    "    context: Annotated[str, \"Context\"]\n",
    "    answer: Annotated[str, \"Answer\"]\n",
    "    messages: Annotated[list, add_messages]\n",
    "    need_date: Annotated[bool, \"Whether to request a date\"]\n",
    "    need_time: Annotated[bool, \"Whether to request current time\"]  # 시간 요청 여부"
   ]
  },
  {
   "cell_type": "code",
   "execution_count": null,
   "metadata": {},
   "outputs": [],
   "source": [
    "# ✅ 날짜 및 시간을 context에 추가하는 함수\n",
    "def update_context(state: State):\n",
    "    today = datetime.today().strftime(\"%Y-%m-%d\")\n",
    "    current_time = datetime.now().strftime(\"%H:%M:%S\")\n",
    "\n",
    "    # `context`가 비어 있으면 초기값 설정\n",
    "    if not state.get(\"context\"):\n",
    "        state[\"context\"] = \"\"\n",
    "\n",
    "    # 오늘 날짜와 현재 시간을 context에 추가\n",
    "    state[\"context\"] += f\" 오늘 날짜는 {today}이며, 현재 시간은 {current_time}입니다.\"\n",
    "\n",
    "    return {\"next\": \"response_bot\"}\n",
    "\n",
    "\n",
    "# ✅ 첫 번째 챗봇: context 업데이트 후 응답 생성으로 이동\n",
    "def chatbot(state: State):\n",
    "    return {\"next\": \"update_context\"}\n",
    "\n",
    "\n",
    "# ✅ 응답 생성 챗봇: 모델이 context를 참고하여 자연스럽게 날짜를 해석하도록 함\n",
    "def response_bot(state: State):\n",
    "    \"\"\"\n",
    "    context를 참고하여 모델이 답변을 생성\n",
    "    \"\"\"\n",
    "    answer = f\"참고할 정보: {state.get('context', '')}. 사용자 질문에 대한 답변입니다.\"\n",
    "    state[\"answer\"] = answer\n",
    "\n",
    "    return {\n",
    "        \"messages\": [{\"role\": \"assistant\", \"content\": answer}],\n",
    "        \"next\": END,  # 종료\n",
    "    }"
   ]
  },
  {
   "cell_type": "code",
   "execution_count": 154,
   "metadata": {},
   "outputs": [],
   "source": [
    "# 그래프 생성\n",
    "graph_builder = StateGraph(State)\n",
    "\n",
    "# 노드 추가\n",
    "graph_builder.add_node(\"chatbot\", chatbot)  # 질문 분석 챗봇\n",
    "graph_builder.add_node(\"update_context\", update_context)  # 날짜/시간 정보 추가\n",
    "graph_builder.add_node(\"response_bot\", response_bot)  # 최종 응답 생성 챗봇\n",
    "\n",
    "graph_builder.add_edge(START, \"chatbot\")\n",
    "\n",
    "# 노드 연결: chatbot -> context 업데이트 -> 응답 생성\n",
    "graph_builder.add_edge(\"chatbot\", \"update_context\")\n",
    "graph_builder.add_edge(\"update_context\", \"response_bot\")\n",
    "\n",
    "# 응답 생성 후 종료\n",
    "graph_builder.add_edge(\"response_bot\", END)\n",
    "\n",
    "# 그래프 컴파일\n",
    "graph = graph_builder.compile()"
   ]
  },
  {
   "cell_type": "code",
   "execution_count": 155,
   "metadata": {},
   "outputs": [
    {
     "name": "stdout",
     "output_type": "stream",
     "text": [
      "Warning: No valid response received from the model.\n",
      "Warning: No valid response received from the model.\n",
      "Assistant: 참고할 정보: . 사용자 질문에 대한 답변입니다.\n"
     ]
    }
   ],
   "source": [
    "question = \"다음주 수요일은 언제야?\"\n",
    "\n",
    "for event in graph.stream(\n",
    "    {\"question\": question, \"context\": \"\", \"messages\": [], \"answer\": \"\"}\n",
    "):\n",
    "    for value in event.values():\n",
    "        if value and isinstance(value, dict) and \"messages\" in value:\n",
    "            last_message = value[\"messages\"][-1]\n",
    "\n",
    "            if isinstance(last_message, dict) and \"content\" in last_message:\n",
    "                print(\"Assistant:\", last_message[\"content\"])\n",
    "            else:\n",
    "                print(\"Warning: Last message does not have 'content'\")\n",
    "        else:\n",
    "            print(\"Warning: No valid response received from the model.\")"
   ]
  },
  {
   "cell_type": "code",
   "execution_count": null,
   "metadata": {},
   "outputs": [],
   "source": [
    "from langchain.tools import Tool\n",
    "\n",
    "# 도구 인스턴스 생성\n",
    "date_tool = GetCurrentDateTime()\n",
    "\n",
    "\n",
    "def get_today_date_wrapper(state: State):\n",
    "    state[\"need_date\"] = False  # 호출 후 need_date 비활성화\n",
    "    state[\"context\"] = datetime.today().strftime(\"%Y-%m-%d\")\n",
    "\n",
    "    return {\"date\": datetime.today().strftime(\"%Y-%m-%d\")}  # dict 반환\n",
    "\n",
    "\n",
    "def get_current_time_wrapper(state: State):\n",
    "    return {\"time\": datetime.now().strftime(\"%H:%M:%S\")}  # dict 반환\n",
    "\n",
    "\n",
    "# OpenAI Tool 형식에 맞게 변환\n",
    "get_today_date_tool = Tool(\n",
    "    name=\"get_today_date\",\n",
    "    func=get_today_date_wrapper,  # 수정된 함수 적용\n",
    "    description=\"현재 날짜를 반환하는 도구\",\n",
    ")\n",
    "\n",
    "get_current_time_tool = Tool(\n",
    "    name=\"get_current_time\",\n",
    "    func=get_current_time_wrapper,  # 수정된 함수 적용\n",
    "    description=\"현재 시간을 반환하는 도구\",\n",
    ")\n",
    "\n",
    "# 도구 목록에 추가 (클래스 인스턴스가 아닌, Tool 객체 추가)\n",
    "tools = [get_today_date_tool, get_current_time_tool]"
   ]
  },
  {
   "cell_type": "code",
   "execution_count": 140,
   "metadata": {},
   "outputs": [],
   "source": [
    "from langchain_openai import ChatOpenAI\n",
    "\n",
    "# LLM 정의\n",
    "llm = ChatOpenAI(model=\"gpt-4\", temperature=0)\n",
    "\n",
    "# OpenAI Tool API에 맞게 바인딩\n",
    "llm_with_tool = llm.bind_tools(tools)\n",
    "\n",
    "\n",
    "def chatbot(state: State):\n",
    "    \"\"\"\n",
    "    사용자의 입력을 분석하여 필요한 정보를 판단하는 챗봇\n",
    "    \"\"\"\n",
    "    user_message = state.get(\"messages\", [])\n",
    "\n",
    "    # 마지막 사용자 메시지가 dict인지 확인\n",
    "    if isinstance(user_message[-1], dict):\n",
    "        user_text = user_message[-1][\"content\"]\n",
    "    else:\n",
    "        user_text = user_message[-1].content\n",
    "\n",
    "    # 날짜 또는 시간 요청 판단 후 need_time 또는 need_date 활성화\n",
    "    if \"시간\" in user_text:\n",
    "        if \"time\" in state:  # 이미 저장된 경우 바로 응답 생성\n",
    "            return {\"next\": \"response_bot\"}\n",
    "        state[\"need_time\"] = True  # 필요 시 need_time 활성화\n",
    "        return {\"next\": \"get_current_time\"}\n",
    "\n",
    "    elif \"날짜\" in user_text:\n",
    "        if \"date\" in state:  # 이미 저장된 경우 바로 응답 생성\n",
    "            return {\"next\": \"response_bot\"}\n",
    "        state[\"need_date\"] = True  # 필요 시 need_date 활성화\n",
    "        return {\"next\": \"get_today_date\"}\n",
    "\n",
    "    # 아무 것도 해당되지 않으면 응답 생성으로 이동\n",
    "    return {\"next\": \"response_bot\"}\n",
    "\n",
    "\n",
    "def response_bot(state: State):\n",
    "    \"\"\"\n",
    "    시간 또는 날짜 정보를 확인하고 최종 응답을 생성하는 챗봇\n",
    "    \"\"\"\n",
    "    assistant_response = \"제가 도와드릴 수 있는 정보를 알려주세요.\"\n",
    "\n",
    "    if state.get(\"time\"):\n",
    "        assistant_response = f\"현재 시간은 {state['time']}입니다.\"\n",
    "    elif state.get(\"date\"):\n",
    "        assistant_response = f\"오늘 날짜는 {state['date']}입니다.\"\n",
    "\n",
    "    return {\n",
    "        \"messages\": [{\"role\": \"assistant\", \"content\": assistant_response}],\n",
    "        \"next\": END,  # 종료로 이동\n",
    "    }"
   ]
  },
  {
   "cell_type": "code",
   "execution_count": 141,
   "metadata": {},
   "outputs": [
    {
     "data": {
      "text/plain": [
       "<langgraph.graph.state.StateGraph at 0x24b63930f20>"
      ]
     },
     "execution_count": 141,
     "metadata": {},
     "output_type": "execute_result"
    }
   ],
   "source": [
    "# 그래프 생성\n",
    "graph_builder = StateGraph(State)\n",
    "\n",
    "# 노드 추가\n",
    "graph_builder.add_node(\"chatbot\", chatbot)  # 입력 분석 챗봇\n",
    "graph_builder.add_node(\"get_today_date\", GetCurrentDateTime.get_today_date)  # 날짜 도구\n",
    "graph_builder.add_node(\n",
    "    \"get_current_time\", GetCurrentDateTime.get_current_time\n",
    ")  # 시간 도구\n",
    "graph_builder.add_node(\"response_bot\", response_bot)  # 응답 생성 챗봇"
   ]
  },
  {
   "cell_type": "code",
   "execution_count": 142,
   "metadata": {},
   "outputs": [],
   "source": [
    "# 시작 노드에서 챗봇 노드로의 엣지 추가\n",
    "graph_builder.add_edge(START, \"chatbot\")\n",
    "\n",
    "# 노드 연결: 챗봇 -> 필요 정보 판단\n",
    "graph_builder.add_edge(\"chatbot\", \"get_today_date\")\n",
    "graph_builder.add_edge(\"chatbot\", \"get_current_time\")\n",
    "graph_builder.add_edge(\"chatbot\", \"response_bot\")\n",
    "\n",
    "# 날짜 또는 시간 조회 후 응답 생성으로 이동\n",
    "graph_builder.add_edge(\"get_today_date\", \"response_bot\")\n",
    "graph_builder.add_edge(\"get_current_time\", \"response_bot\")\n",
    "\n",
    "# 응답 생성 후 종료\n",
    "graph_builder.add_edge(\"response_bot\", END)\n",
    "\n",
    "# 그래프 컴파일\n",
    "graph = graph_builder.compile()"
   ]
  },
  {
   "cell_type": "code",
   "execution_count": 143,
   "metadata": {},
   "outputs": [
    {
     "data": {
      "image/png": "[encoded data removed]",
      "text/plain": [
       "<IPython.core.display.Image object>"
      ]
     },
     "metadata": {},
     "output_type": "display_data"
    }
   ],
   "source": [
    "from langchain_teddynote.graphs import visualize_graph\n",
    "\n",
    "# 그래프 시각화\n",
    "visualize_graph(graph)"
   ]
  },
  {
   "cell_type": "code",
   "execution_count": null,
   "metadata": {},
   "outputs": [
    {
     "name": "stdout",
     "output_type": "stream",
     "text": [
      "Warning: No valid response received from the model.\n",
      "Warning: No valid response received from the model.\n",
      "Warning: No valid response received from the model.\n",
      "Assistant: 제가 도와드릴 수 있는 정보를 알려주세요.\n",
      "Assistant: 제가 도와드릴 수 있는 정보를 알려주세요.\n"
     ]
    }
   ],
   "source": [
    "question = \"오늘 날짜를 알려줘\"\n",
    "\n",
    "for event in graph.stream({\"messages\": [(\"user\", question)]}):\n",
    "    for value in event.values():\n",
    "        if value and isinstance(value, dict) and \"messages\" in value:\n",
    "            last_message = value[\"messages\"][-1]\n",
    "\n",
    "            if isinstance(last_message, dict) and \"content\" in last_message:\n",
    "                print(\"Assistant:\", last_message[\"content\"])\n",
    "            else:\n",
    "                print(\"Warning: Last message does not have 'content'\")\n",
    "        else:\n",
    "            print(\"Warning: No valid response received from the model.\")"
   ]
  },
  {
   "cell_type": "code",
   "execution_count": null,
   "metadata": {},
   "outputs": [],
   "source": []
  },
  {
   "cell_type": "code",
   "execution_count": null,
   "metadata": {},
   "outputs": [],
   "source": []
  }
 ],
 "metadata": {
  "kernelspec": {
   "display_name": "ntoday-mK10C09h-py3.12",
   "language": "python",
   "name": "python3"
  },
  "language_info": {
   "codemirror_mode": {
    "name": "ipython",
    "version": 3
   },
   "file_extension": ".py",
   "mimetype": "text/x-python",
   "name": "python",
   "nbconvert_exporter": "python",
   "pygments_lexer": "ipython3",
   "version": "3.12.6"
  }
 },
 "nbformat": 4,
 "nbformat_minor": 2
}
